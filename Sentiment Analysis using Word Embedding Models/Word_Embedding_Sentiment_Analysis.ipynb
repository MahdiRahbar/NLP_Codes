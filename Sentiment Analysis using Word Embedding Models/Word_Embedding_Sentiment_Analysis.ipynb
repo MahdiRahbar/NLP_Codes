{
 "cells": [
  {
   "cell_type": "code",
   "execution_count": 1,
   "metadata": {},
   "outputs": [],
   "source": [
    "from __future__ import unicode_literals\n",
    "import pandas as pd \n",
    "import numpy as np\n",
    "import os \n",
    "\n",
    "from nltk.stem import SnowballStemmer\n",
    "from nltk.stem import WordNetLemmatizer\n",
    "\n",
    "from sklearn.preprocessing import LabelEncoder\n",
    "from sklearn.feature_extraction.text import CountVectorizer, TfidfVectorizer, TfidfTransformer\n",
    "from sklearn.metrics import recall_score, precision_score, f1_score, accuracy_score\n",
    "from sklearn.pipeline import make_pipeline\n",
    "from sklearn.pipeline import Pipeline\n",
    "from sklearn import preprocessing\n",
    "\n",
    "from string import punctuation\n",
    "from collections import Counter , defaultdict\n",
    "\n",
    "from sklearn import svm, datasets\n",
    "from sklearn.svm import SVC\n",
    "from sklearn.naive_bayes import BernoulliNB, MultinomialNB\n",
    "from sklearn.ensemble import ExtraTreesClassifier\n",
    "\n",
    "\n",
    "from sklearn.model_selection import GridSearchCV\n",
    "from sklearn.model_selection import train_test_split \n",
    "from sklearn.model_selection import cross_val_score\n",
    "from sklearn.model_selection import StratifiedShuffleSplit\n",
    "\n",
    "import gensim\n",
    "import struct\n",
    "from gensim.models.word2vec import Word2Vec"
   ]
  },
  {
   "cell_type": "code",
   "execution_count": 3,
   "metadata": {},
   "outputs": [],
   "source": [
    "data = pd.read_csv('review.csv')"
   ]
  },
  {
   "cell_type": "code",
   "execution_count": 4,
   "metadata": {},
   "outputs": [],
   "source": [
    "DataX = data['review']\n",
    "DataY = data['sentiment']\n",
    "y = DataY"
   ]
  },
  {
   "cell_type": "code",
   "execution_count": 5,
   "metadata": {},
   "outputs": [
    {
     "data": {
      "text/html": [
       "<div>\n",
       "<style scoped>\n",
       "    .dataframe tbody tr th:only-of-type {\n",
       "        vertical-align: middle;\n",
       "    }\n",
       "\n",
       "    .dataframe tbody tr th {\n",
       "        vertical-align: top;\n",
       "    }\n",
       "\n",
       "    .dataframe thead th {\n",
       "        text-align: right;\n",
       "    }\n",
       "</style>\n",
       "<table border=\"1\" class=\"dataframe\">\n",
       "  <thead>\n",
       "    <tr style=\"text-align: right;\">\n",
       "      <th></th>\n",
       "      <th>review</th>\n",
       "      <th>sentiment</th>\n",
       "    </tr>\n",
       "  </thead>\n",
       "  <tbody>\n",
       "    <tr>\n",
       "      <th>0</th>\n",
       "      <td>lancelot du lac ( lancelot du lac ) ( france ,...</td>\n",
       "      <td>1</td>\n",
       "    </tr>\n",
       "    <tr>\n",
       "      <th>1</th>\n",
       "      <td>director : brian de palma writer : david koepp...</td>\n",
       "      <td>1</td>\n",
       "    </tr>\n",
       "    <tr>\n",
       "      <th>2</th>\n",
       "      <td>six days , seven nights reviewed by jamie peck...</td>\n",
       "      <td>1</td>\n",
       "    </tr>\n",
       "    <tr>\n",
       "      <th>3</th>\n",
       "      <td>cast : mel gibson ( jerry fletcher ) , julia r...</td>\n",
       "      <td>1</td>\n",
       "    </tr>\n",
       "    <tr>\n",
       "      <th>4</th>\n",
       "      <td>all great things come to an end , and the dot-...</td>\n",
       "      <td>1</td>\n",
       "    </tr>\n",
       "  </tbody>\n",
       "</table>\n",
       "</div>"
      ],
      "text/plain": [
       "                                              review  sentiment\n",
       "0  lancelot du lac ( lancelot du lac ) ( france ,...          1\n",
       "1  director : brian de palma writer : david koepp...          1\n",
       "2  six days , seven nights reviewed by jamie peck...          1\n",
       "3  cast : mel gibson ( jerry fletcher ) , julia r...          1\n",
       "4  all great things come to an end , and the dot-...          1"
      ]
     },
     "execution_count": 5,
     "metadata": {},
     "output_type": "execute_result"
    }
   ],
   "source": [
    "data.head()"
   ]
  },
  {
   "cell_type": "code",
   "execution_count": 6,
   "metadata": {},
   "outputs": [],
   "source": [
    "def String_Splitter(data):\n",
    "    \"\"\"\n",
    "    \n",
    "    \"\"\"\n",
    "    for i in range(len(data)):\n",
    "        try :             \n",
    "            data[i]=data[i].split()\n",
    "        except:\n",
    "            print(i)\n",
    "            data[i] = data[i]\n",
    "    return data\n",
    "\n",
    "\n",
    "\n",
    "\n",
    "def wordToString(wordList):\n",
    "    \"\"\"\n",
    "    \n",
    "    \"\"\"\n",
    "    stringList = []\n",
    "    for i in range(0,len(wordList)):\n",
    "        stringList.append(' '.join(word for word in wordList[i]))\n",
    "    return stringList\n",
    "\n",
    "\n",
    "\n",
    "\n",
    "def TextCleaner(Data, stopwordsList= ''):\n",
    "    \"\"\"\n",
    "    \n",
    "    \"\"\"\n",
    "    stemmer = SnowballStemmer(\"english\")\n",
    "    lemmatizer = WordNetLemmatizer()\n",
    "    dataList = Data\n",
    "    table = str.maketrans('', '', punctuation)\n",
    "    CountVector = []\n",
    "    \n",
    "    for i in range(0, len(dataList)):\n",
    "        vocabulary = []\n",
    "        \n",
    "        for j in range(0, len(dataList[i])):\n",
    "            dataList[i][j] = stemmer.stem(dataList[i][j])\n",
    "            dataList[i][j] = lemmatizer.lemmatize(dataList[i][j])\n",
    "            \n",
    "        dataList[i] = [word for word in dataList[i] if word.isalpha()]\n",
    "        dataList[i] = [w.translate(table) for w in dataList[i]]\n",
    "        dataList[i] = [word for word in dataList[i] if len(word) > 3]\n",
    "        vocabulary.append(dataList[i])\n",
    "        \n",
    "    return dataList"
   ]
  },
  {
   "cell_type": "code",
   "execution_count": 7,
   "metadata": {},
   "outputs": [],
   "source": [
    "temp_corpus = DataX.values.tolist()\n",
    "\n",
    "i = len(temp_corpus)-1\n",
    "while i != 0:\n",
    "    if temp_corpus[i]==float('nan'):\n",
    "        del(temp_corpus[i])\n",
    "    i-=1\n",
    "    \n",
    "\n",
    "new_data = String_Splitter(temp_corpus)\n",
    "X = TextCleaner(new_data)"
   ]
  },
  {
   "cell_type": "code",
   "execution_count": null,
   "metadata": {},
   "outputs": [],
   "source": [
    "X[:1]"
   ]
  }
 ],
 "metadata": {
  "kernelspec": {
   "display_name": "Python 3",
   "language": "python",
   "name": "python3"
  },
  "language_info": {
   "codemirror_mode": {
    "name": "ipython",
    "version": 3
   },
   "file_extension": ".py",
   "mimetype": "text/x-python",
   "name": "python",
   "nbconvert_exporter": "python",
   "pygments_lexer": "ipython3",
   "version": "3.7.5"
  }
 },
 "nbformat": 4,
 "nbformat_minor": 2
}
