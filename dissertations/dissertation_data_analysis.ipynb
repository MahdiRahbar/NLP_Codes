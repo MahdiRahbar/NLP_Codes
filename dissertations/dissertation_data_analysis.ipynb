{
 "cells": [
  {
   "cell_type": "code",
   "execution_count": 14,
   "metadata": {},
   "outputs": [],
   "source": [
    "import numpy as np\n",
    "import pandas as pd \n",
    "import os\n",
    "# ==========================\n",
    "# Import libraries\n",
    "import json\n",
    "import nltk\n",
    "# from __future__ import unicode_literals\n",
    "from hazm import *\n",
    "from collections import OrderedDict\n",
    "from sklearn.model_selection import train_test_split \n",
    "from sklearn.preprocessing import LabelEncoder\n",
    "from sklearn.feature_extraction.text import CountVectorizer, TfidfVectorizer, TfidfTransformer\n",
    "from sklearn.naive_bayes import MultinomialNB\n",
    "import collections\n",
    "import re\n",
    "from collections import Counter, defaultdict\n",
    "# from stopwords_guilannlp import stopwords_output\n",
    "# from pydrive.auth import GoogleAuth\n",
    "# from pydrive.drive import GoogleDrive\n",
    "# from google.colab import auth\n",
    "# from oauth2client.client import GoogleCredentials\n",
    "# from unidecode import unidecode\n",
    "from sklearn.metrics import recall_score, precision_score, f1_score, accuracy_score\n",
    "\n",
    "from sklearn.pipeline import make_pipeline\n",
    "from sklearn import preprocessing\n",
    "from sklearn.model_selection import cross_validate\n",
    "from sklearn import svm\n",
    "\n",
    "#=============================\n",
    "\n",
    "from sklearn import tree\n",
    "from sklearn.model_selection import validation_curve\n",
    "from sklearn.pipeline import make_pipeline\n",
    "from sklearn.metrics import make_scorer\n",
    "from sklearn.metrics import mean_squared_error\n",
    "\n",
    "from sklearn.model_selection import cross_val_score\n",
    "from sklearn.model_selection import GridSearchCV\n",
    "\n",
    "#============================\n",
    "\n",
    "from hazm import *\n",
    "from string import punctuation\n",
    "from collections import Counter\n"
   ]
  },
  {
   "cell_type": "code",
   "execution_count": 15,
   "metadata": {},
   "outputs": [],
   "source": [
    "def corpus_reader(the_path,):\n",
    "    string_corpus = []\n",
    "    the_path = the_path\n",
    "    set_class = ''\n",
    "    for filename in os.listdir(the_path):\n",
    "        file_path = the_path+filename\n",
    "        loaded_file = open(file_path,'r',encoding = \"utf-8\") \n",
    "        line_seperated_data = loaded_file.readlines() \n",
    "        set_class = str(filename[:2])\n",
    "#         print(len(line_seperated_data))\n",
    "        string_corpus.append([line_seperated_data[0],set_class])\n",
    "    return string_corpus"
   ]
  },
  {
   "cell_type": "code",
   "execution_count": null,
   "metadata": {},
   "outputs": [],
   "source": [
    "data= corpus_reader('data/')"
   ]
  },
  {
   "cell_type": "code",
   "execution_count": null,
   "metadata": {},
   "outputs": [],
   "source": [
    "print('the first data sample: ',data[0])\n",
    "print('the first data sample\\'s class: ', data[0][1])"
   ]
  },
  {
   "cell_type": "code",
   "execution_count": null,
   "metadata": {},
   "outputs": [],
   "source": [
    "header= ['corpus','label']"
   ]
  },
  {
   "cell_type": "code",
   "execution_count": null,
   "metadata": {},
   "outputs": [],
   "source": [
    "Data = pd.DataFrame(data,columns=header)"
   ]
  },
  {
   "cell_type": "code",
   "execution_count": null,
   "metadata": {},
   "outputs": [],
   "source": [
    "Data.head()"
   ]
  },
  {
   "cell_type": "code",
   "execution_count": null,
   "metadata": {},
   "outputs": [],
   "source": [
    "Data.label.value_counts()"
   ]
  },
  {
   "cell_type": "code",
   "execution_count": null,
   "metadata": {},
   "outputs": [],
   "source": [
    "Data.shape"
   ]
  },
  {
   "cell_type": "code",
   "execution_count": null,
   "metadata": {},
   "outputs": [],
   "source": [
    "pd.set_option('display.max_colwidth', -1)"
   ]
  },
  {
   "cell_type": "code",
   "execution_count": null,
   "metadata": {},
   "outputs": [],
   "source": [
    "from __future__ import unicode_literals\n",
    "from hazm import *\n",
    "from string import punctuation\n",
    "from collections import Counter\n",
    "\n",
    "\n",
    "punctuation = punctuation\n",
    "\n",
    "\n",
    "def TextCleaner(Data, stopwordsList= ''):\n",
    "    \n",
    "    stemmer = Stemmer()\n",
    "    lemmatizer = Lemmatizer()\n",
    "    dataList = Data\n",
    "    table = str.maketrans('', '', punctuation)\n",
    "    CountVector = []\n",
    "    \n",
    "    for i in range(0, len(dataList)):\n",
    "        vocabulary = []\n",
    "        \n",
    "        for j in range(0, len(dataList[i][0])):\n",
    "            dataList[i][0][j] = stemmer.stem(dataList[i][0][j])\n",
    "            dataList[i][0][j] = lemmatizer.lemmatize(dataList[i][0][j])\n",
    "            \n",
    "        dataList[i][0] = [word for word in dataList[i][0] if word.isalpha()]\n",
    "        dataList[i][0] = [w.translate(table) for w in dataList[i][0]]\n",
    "        dataList[i][0] = [word for word in dataList[i][0] if len(word) > 3]\n",
    "        vocabulary.append(dataList[i])\n",
    "        \n",
    "    return dataList"
   ]
  },
  {
   "cell_type": "code",
   "execution_count": null,
   "metadata": {},
   "outputs": [],
   "source": [
    "def String_Splitter(data):\n",
    "    for i in range(len(data)):\n",
    "         data[i][0]=data[i][0].split()\n",
    "    return data"
   ]
  },
  {
   "cell_type": "code",
   "execution_count": null,
   "metadata": {},
   "outputs": [],
   "source": [
    "new_data = String_Splitter(data)"
   ]
  },
  {
   "cell_type": "code",
   "execution_count": null,
   "metadata": {},
   "outputs": [],
   "source": [
    "new_data[0]"
   ]
  },
  {
   "cell_type": "code",
   "execution_count": null,
   "metadata": {},
   "outputs": [],
   "source": [
    "cleaned_data = TextCleaner(new_data)"
   ]
  },
  {
   "cell_type": "code",
   "execution_count": null,
   "metadata": {},
   "outputs": [],
   "source": [
    "cleaned_data[0]"
   ]
  },
  {
   "cell_type": "code",
   "execution_count": null,
   "metadata": {},
   "outputs": [],
   "source": [
    "def wordToString(wordList):\n",
    "    stringList = []\n",
    "    for i in range(0,len(wordList)):\n",
    "        stringList.append(' '.join(word for word in wordList[i][0]))\n",
    "    return stringList"
   ]
  }
 ],
 "metadata": {
  "kernelspec": {
   "display_name": "Python 3",
   "language": "python",
   "name": "python3"
  },
  "language_info": {
   "codemirror_mode": {
    "name": "ipython",
    "version": 3
   },
   "file_extension": ".py",
   "mimetype": "text/x-python",
   "name": "python",
   "nbconvert_exporter": "python",
   "pygments_lexer": "ipython3",
   "version": "3.6.8"
  }
 },
 "nbformat": 4,
 "nbformat_minor": 2
}
