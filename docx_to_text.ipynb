{
 "cells": [
  {
   "cell_type": "code",
   "execution_count": 68,
   "metadata": {},
   "outputs": [],
   "source": [
    "import numpy as np \n",
    "import pandas as pd\n",
    "import docx\n",
    "import os"
   ]
  },
  {
   "cell_type": "code",
   "execution_count": 12,
   "metadata": {},
   "outputs": [],
   "source": [
    "# Function to rename multiple files \n",
    "def name_changer(the_path): \n",
    "    i = 1\n",
    "      \n",
    "    for filename in os.listdir(the_path): \n",
    "        dst = str(i) + \".docx\"\n",
    "        src = the_path+ filename \n",
    "        dst = the_path+ dst \n",
    "          \n",
    "        # rename() function will \n",
    "        # rename all the files \n",
    "        os.rename(src, dst) \n",
    "        i += 1"
   ]
  },
  {
   "cell_type": "code",
   "execution_count": 14,
   "metadata": {},
   "outputs": [],
   "source": [
    "# name_changer('datasets/ensani/')\n",
    "name_changer('datasets/fani/')"
   ]
  },
  {
   "cell_type": "code",
   "execution_count": 15,
   "metadata": {},
   "outputs": [],
   "source": [
    "name_changer('datasets/honar/')\n",
    "name_changer('datasets/paye/')\n",
    "name_changer('datasets/pezeshki/')"
   ]
  },
  {
   "cell_type": "code",
   "execution_count": 76,
   "metadata": {},
   "outputs": [],
   "source": [
    "def doc_cleaner(the_path,saving_path ,preFix= '', my_seperator=' '):\n",
    "    seperator = my_seperator\n",
    "    number=0\n",
    "    try:\n",
    "        for filename in os.listdir(the_path): \n",
    "    #         print(filename)\n",
    "            number=number+1\n",
    "            file_path = the_path+filename\n",
    "            doc = docx.Document(file_path)\n",
    "            temp_doc = []\n",
    "            for i in doc.paragraphs:\n",
    "    #             print(type(i))\n",
    "    #             print(i)\n",
    "                temp = i.text.split()\n",
    "                for j in temp:\n",
    "                    temp_doc.append(j)\n",
    "            temp_doc = seperator.join(temp_doc)\n",
    "            textfile_name=str(saving_path)+preFix+ str(number) + \".txt\"\n",
    "\n",
    "            with open(textfile_name, 'w',encoding='utf8') as f:\n",
    "    #             print(temp_doc)\n",
    "                for item in temp_doc:\n",
    "    #                 print(item)\n",
    "                    f.write(\"%s\" % item)    \n",
    "    except:\n",
    "        pass\n",
    "#         print('done')\n"
   ]
  },
  {
   "cell_type": "code",
   "execution_count": 77,
   "metadata": {},
   "outputs": [],
   "source": [
    "doc_cleaner('datasets/ensani/','datasets/ensani/modified/')"
   ]
  },
  {
   "cell_type": "code",
   "execution_count": 78,
   "metadata": {},
   "outputs": [],
   "source": [
    "doc_cleaner('datasets/fani/','datasets/fani/modified/','fan_')"
   ]
  },
  {
   "cell_type": "code",
   "execution_count": 79,
   "metadata": {},
   "outputs": [],
   "source": [
    "doc_cleaner('datasets/honar/','datasets/honar/modified/','hon_')"
   ]
  },
  {
   "cell_type": "code",
   "execution_count": 80,
   "metadata": {},
   "outputs": [],
   "source": [
    "doc_cleaner('datasets/paye/','datasets/paye/modified/','pay_')"
   ]
  },
  {
   "cell_type": "code",
   "execution_count": 81,
   "metadata": {},
   "outputs": [],
   "source": [
    "doc_cleaner('datasets/pezeshki/','datasets/pezeshki/modified/','peze_')"
   ]
  },
  {
   "cell_type": "code",
   "execution_count": null,
   "metadata": {},
   "outputs": [],
   "source": []
  }
 ],
 "metadata": {
  "kernelspec": {
   "display_name": "Python 3",
   "language": "python",
   "name": "python3"
  },
  "language_info": {
   "codemirror_mode": {
    "name": "ipython",
    "version": 3
   },
   "file_extension": ".py",
   "mimetype": "text/x-python",
   "name": "python",
   "nbconvert_exporter": "python",
   "pygments_lexer": "ipython3",
   "version": "3.6.8"
  }
 },
 "nbformat": 4,
 "nbformat_minor": 2
}
